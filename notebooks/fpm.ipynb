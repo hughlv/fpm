{
 "cells": [
  {
   "cell_type": "markdown",
   "metadata": {},
   "source": [
    "# FPM: Funding-Productivity Model\n",
    "\n",
    "This notebook is a simple model to estimate the funding required to achieve a certain level of productivity in a research lab. The model is based on the assumption that the productivity of a lab is proportional to the funding it receives. \n",
    "\n",
    "The model is based on the following assumptions:"
   ]
  },
  {
   "cell_type": "markdown",
   "metadata": {},
   "source": [
    "## Data Formatting\n",
    "\n",
    "The data is formatted as a table with the following columns:\n",
    "\n",
    "- `Year`: The year of the data\n",
    "- `Funding`: The funding received by the lab in that year\n",
    "- `Productivity`: The productivity of the lab in that year\n",
    "- `Target Productivity`: The target productivity of the lab\n"
   ]
  },
  {
   "cell_type": "markdown",
   "metadata": {},
   "source": [
    "## Key Assumptions\n",
    "\n",
    "1. **Productivity is proportional to funding**: The productivity of the lab is assumed to be proportional to the funding it receives. This is a simplifying assumption, but it is a common one in the literature on research funding.\n",
    "1. **Diminishing returns to funding**: The relationship between funding and productivity is assumed to be concave, meaning that the marginal productivity of funding decreases as funding increases. This is also a common assumption in the literature on research funding.\n",
    "1. **Lag between funding and productivity**: The effect of funding on productivity is assumed to be lagged, meaning that funding in one year affects productivity in the following year. This is a common assumption in the literature on research funding."
   ]
  },
  {
   "cell_type": "code",
   "execution_count": 9,
   "metadata": {},
   "outputs": [
    {
     "name": "stdout",
     "output_type": "stream",
     "text": [
      "Requirement already satisfied: semopy in /usr/local/python/3.10.13/lib/python3.10/site-packages (2.3.11)\n",
      "Requirement already satisfied: scipy in /home/codespace/.local/lib/python3.10/site-packages (from semopy) (1.12.0)\n",
      "Requirement already satisfied: numpy in /home/codespace/.local/lib/python3.10/site-packages (from semopy) (1.26.4)\n",
      "Requirement already satisfied: pandas in /home/codespace/.local/lib/python3.10/site-packages (from semopy) (2.2.0)\n",
      "Requirement already satisfied: sympy in /home/codespace/.local/lib/python3.10/site-packages (from semopy) (1.12)\n",
      "Requirement already satisfied: scikit-learn in /home/codespace/.local/lib/python3.10/site-packages (from semopy) (1.4.0)\n",
      "Requirement already satisfied: statsmodels in /usr/local/python/3.10.13/lib/python3.10/site-packages (from semopy) (0.14.1)\n",
      "Requirement already satisfied: numdifftools in /usr/local/python/3.10.13/lib/python3.10/site-packages (from semopy) (0.9.41)\n",
      "Requirement already satisfied: python-dateutil>=2.8.2 in /home/codespace/.local/lib/python3.10/site-packages (from pandas->semopy) (2.8.2)\n",
      "Requirement already satisfied: pytz>=2020.1 in /home/codespace/.local/lib/python3.10/site-packages (from pandas->semopy) (2024.1)\n",
      "Requirement already satisfied: tzdata>=2022.7 in /home/codespace/.local/lib/python3.10/site-packages (from pandas->semopy) (2023.4)\n",
      "Requirement already satisfied: joblib>=1.2.0 in /home/codespace/.local/lib/python3.10/site-packages (from scikit-learn->semopy) (1.3.2)\n",
      "Requirement already satisfied: threadpoolctl>=2.0.0 in /home/codespace/.local/lib/python3.10/site-packages (from scikit-learn->semopy) (3.2.0)\n",
      "Requirement already satisfied: patsy>=0.5.4 in /usr/local/python/3.10.13/lib/python3.10/site-packages (from statsmodels->semopy) (0.5.6)\n",
      "Requirement already satisfied: packaging>=21.3 in /home/codespace/.local/lib/python3.10/site-packages (from statsmodels->semopy) (23.2)\n",
      "Requirement already satisfied: mpmath>=0.19 in /home/codespace/.local/lib/python3.10/site-packages (from sympy->semopy) (1.3.0)\n",
      "Requirement already satisfied: six in /home/codespace/.local/lib/python3.10/site-packages (from patsy>=0.5.4->statsmodels->semopy) (1.16.0)\n",
      "Note: you may need to restart the kernel to use updated packages.\n",
      "         lval  op       rval      Estimate   Std. Err   z-value   p-value\n",
      "0     Latent2   ~    Latent1 -1.572642e+00   6.890117 -0.228246  0.819455\n",
      "1   Observed1   ~    Latent1  1.000000e+00          -         -         -\n",
      "2   Observed2   ~    Latent1 -3.625009e-01   0.796769 -0.454964  0.649135\n",
      "3   Observed3   ~    Latent2  1.000000e+00          -         -         -\n",
      "4   Observed4   ~    Latent2  7.594050e-02   0.963756  0.078796  0.937195\n",
      "5     Latent1  ~~    Latent1  8.044758e-02   0.361783  0.222364  0.824031\n",
      "6     Latent2  ~~    Latent2  6.569464e-01  10.814583  0.060746  0.951561\n",
      "7   Observed1  ~~  Observed1  1.330150e+00   0.402323  3.306178  0.000946\n",
      "8   Observed2  ~~  Observed2  1.012405e+00    0.15061  6.722047       0.0\n",
      "9   Observed3  ~~  Observed3  1.122502e-18  10.778355       0.0       1.0\n",
      "10  Observed4  ~~  Observed4  1.223853e+00   0.183902  6.654916       0.0\n"
     ]
    }
   ],
   "source": [
    "# Install the semopy library if not already installed\n",
    "%pip install semopy\n",
    "\n",
    "# Import the necessary libraries\n",
    "import semopy\n",
    "import pandas as pd\n",
    "import numpy as np\n",
    "\n",
    "# Define your SEM model using the `semopy` syntax\n",
    "model_desc = \"\"\"\n",
    "    # Measurement model\n",
    "    Latent1 =~ Observed1 + Observed2\n",
    "    Latent2 =~ Observed3 + Observed4\n",
    "\n",
    "    # Regression structure\n",
    "    Latent2 ~ Latent1\n",
    "\"\"\"\n",
    "\n",
    "data = pd.DataFrame({\n",
    "    'Observed1': np.random.normal(size=100),\n",
    "    'Observed2': np.random.normal(size=100),\n",
    "    'Observed3': np.random.normal(size=100),\n",
    "    'Observed4': np.random.normal(size=100)\n",
    "})\n",
    "\n",
    "# Set up the SEM model\n",
    "model = semopy.Model(model_desc)\n",
    "\n",
    "# Fit the model\n",
    "model.fit(data)\n",
    "\n",
    "# Get the summary of the model results\n",
    "summary = model.inspect()\n",
    "print(summary)\n"
   ]
  },
  {
   "cell_type": "code",
   "execution_count": null,
   "metadata": {},
   "outputs": [],
   "source": [
    "import pandas as pd\n",
    "\n",
    "# Read the source data from a file or any other source\n",
    "source_data = pd.read_csv('path/to/source_data.csv')\n",
    "\n",
    "# Select the required fields from the source data\n",
    "required_data = source_data[['Field1', 'Field2', 'Field3']]\n",
    "\n",
    "# Remove any rows with missing values in the required fields\n",
    "required_data = required_data.dropna(subset=['Field1', 'Field2', 'Field3'])\n",
    "\n",
    "# Perform any additional data cleaning or transformations as needed\n",
    "\n",
    "# Print the prepared data\n",
    "print(required_data)\n"
   ]
  }
 ],
 "metadata": {
  "kernelspec": {
   "display_name": "Python 3 (ipykernel)",
   "language": "python",
   "name": "python3"
  },
  "language_info": {
   "codemirror_mode": {
    "name": "ipython",
    "version": 3
   },
   "file_extension": ".py",
   "mimetype": "text/x-python",
   "name": "python",
   "nbconvert_exporter": "python",
   "pygments_lexer": "ipython3",
   "version": "3.10.13"
  }
 },
 "nbformat": 4,
 "nbformat_minor": 2
}
