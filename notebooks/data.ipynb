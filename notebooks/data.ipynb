{
 "cells": [
  {
   "cell_type": "markdown",
   "metadata": {},
   "source": [
    "# Data Fetcher\n",
    "\n",
    "Fetch data from Crunchbase API and save it to a CSV file."
   ]
  },
  {
   "cell_type": "code",
   "execution_count": 15,
   "metadata": {},
   "outputs": [],
   "source": [
    "import requests\n",
    "import pandas as pd\n",
    "import logging"
   ]
  },
  {
   "cell_type": "code",
   "execution_count": 17,
   "metadata": {},
   "outputs": [],
   "source": [
    "# 设置API密钥和请求参数\n",
    "api_key = \"cb073f156ecb76c73a287f4ca7cb3e8a\"\n",
    "url = \"https://api.crunchbase.com/api/v4/searches/organizations\"\n",
    "query = {\n",
    "    \"cards\": \"funding_rounds,facts\",\n",
    "    \"locations\": \"China\",\n",
    "    \"categories\": \"enterprise software\",\n",
    "    \"limit\": 1000,  # 每页返回的结果数,根据需要调整\n",
    "    \"user_key\": api_key\n",
    "}\n",
    "\n",
    "# Set the base URL for the Crunchbase API\n",
    "base_url = \"https://api.crunchbase.com/api/v4/\"\n",
    "\n",
    "# Set the endpoint for searching organizations\n",
    "endpoint = \"searches/organizations\"\n",
    "\n",
    "\n",
    "# Set the headers with your API key\n",
    "headers = {\n",
    "    \"accept\": \"application/json\",\n",
    "    \"content-type\": \"application/json\",\n",
    "    \"X-cb-user-key\": api_key\n",
    "}\n",
    "\n"
   ]
  },
  {
   "cell_type": "code",
   "execution_count": 20,
   "metadata": {},
   "outputs": [
    {
     "name": "stderr",
     "output_type": "stream",
     "text": [
      "DEBUG:urllib3.connectionpool:Starting new HTTPS connection (1): api.crunchbase.com:443\n",
      "DEBUG:urllib3.connectionpool:https://api.crunchbase.com:443 \"POST /api/v4/searches/organizations HTTP/1.1\" 400 164\n"
     ]
    },
    {
     "name": "stdout",
     "output_type": "stream",
     "text": [
      "400\n",
      "{'Content-Type': 'application/json', 'Date': 'Sat, 30 Mar 2024 01:41:18 GMT', 'Server': 'openresty', 'x-cb-request-took': '0', 'Content-Length': '164', 'Connection': 'keep-alive'}\n",
      "400 Client Error: Bad Request for url: https://api.crunchbase.com/api/v4/searches/organizations\n",
      "response: [{\"message\":\"insufficient permissions to search field funding_total\",\"code\":\"MD403\",\"entity_def_id\":\"organization\",\"field_id\":\"funding_total\",\"entitlement_ids\":[]}]\n"
     ]
    }
   ],
   "source": [
    "# 发送请求并解析结果\n",
    "logging.basicConfig(level=logging.DEBUG)\n",
    "\n",
    "# Set the query payload\n",
    "payload = {\n",
    "  \"field_ids\": [\n",
    "    \"identifier\",\n",
    "    \"location_identifiers\",\n",
    "    \"short_description\",\n",
    "    \"rank_org\"\n",
    "  ],\n",
    "  \"order\": [\n",
    "    {\n",
    "      \"field_id\": \"rank_org\",\n",
    "      \"sort\": \"asc\"\n",
    "    }\n",
    "  ],\n",
    "  \"query\": [\n",
    "    {\n",
    "      \"type\": \"predicate\",\n",
    "      \"field_id\": \"funding_total\",\n",
    "      \"operator_id\": \"between\",\n",
    "      \"values\": [\n",
    "        {\n",
    "          \"value\": 25000000,\n",
    "          \"currency\": \"usd\"\n",
    "        },\n",
    "        {\n",
    "          \"value\": 100000000,\n",
    "          \"currency\": \"usd\"\n",
    "        }\n",
    "      ]\n",
    "    },\n",
    "    {\n",
    "      \"type\": \"predicate\",\n",
    "      \"field_id\": \"location_identifiers\",\n",
    "      \"operator_id\": \"includes\",\n",
    "      \"values\": [\n",
    "        \"6106f5dc-823e-5da8-40d7-51612c0b2c4e\"\n",
    "      ]\n",
    "    },\n",
    "    {\n",
    "      \"type\": \"predicate\",\n",
    "      \"field_id\": \"facet_ids\",\n",
    "      \"operator_id\": \"includes\",\n",
    "      \"values\": [\n",
    "        \"company\"\n",
    "      ]\n",
    "    }\n",
    "  ],\n",
    "  \"limit\": 50\n",
    "}\n",
    "\n",
    "# Make the API request\n",
    "response = requests.post(base_url + endpoint, json=payload, headers=headers)\n",
    "print(response.status_code)\n",
    "print(response.headers)\n",
    "\n",
    "try:\n",
    "    response.raise_for_status()\n",
    "    data = response.json()\n",
    "except requests.exceptions.RequestException as e:\n",
    "    print(e)\n",
    "    print(f'response: {response.text}')\n"
   ]
  },
  {
   "cell_type": "code",
   "execution_count": null,
   "metadata": {},
   "outputs": [],
   "source": [
    "\n",
    "\n",
    "# 提取公司数据\n",
    "companies = []\n",
    "for item in data[\"entities\"]:\n",
    "    company = {\n",
    "        \"name\": item[\"properties\"][\"identifier\"][\"value\"],\n",
    "        \"funding_rounds\": [],\n",
    "        \"operating_data\": {}\n",
    "    }\n",
    "    \n",
    "    # 提取融资数据\n",
    "    if \"funding_rounds\" in item[\"cards\"]:\n",
    "        for round in item[\"cards\"][\"funding_rounds\"]:\n",
    "            company[\"funding_rounds\"].append({\n",
    "                \"amount\": round[\"money_raised\"][\"value_usd\"],\n",
    "                \"announced_on\": round[\"announced_on\"],\n",
    "                \"investor_count\": len(round[\"investors\"])\n",
    "            })\n",
    "    \n",
    "    # 提取运营数据\n",
    "    if \"facts\" in item[\"cards\"]:\n",
    "        facts = item[\"cards\"][\"facts\"]\n",
    "        if \"company_size\" in facts:\n",
    "            company[\"operating_data\"][\"employee_count\"] = facts[\"company_size\"][\"value_int\"]\n",
    "        if \"ipo_status\" in facts:\n",
    "            company[\"operating_data\"][\"ipo_status\"] = facts[\"ipo_status\"][\"value\"]\n",
    "        # 添加其他运营数据,如收入、利润等(如果有的话)\n",
    "    \n",
    "    companies.append(company)\n"
   ]
  }
 ],
 "metadata": {
  "kernelspec": {
   "display_name": "Python 3",
   "language": "python",
   "name": "python3"
  },
  "language_info": {
   "codemirror_mode": {
    "name": "ipython",
    "version": 3
   },
   "file_extension": ".py",
   "mimetype": "text/x-python",
   "name": "python",
   "nbconvert_exporter": "python",
   "pygments_lexer": "ipython3",
   "version": "3.10.13"
  }
 },
 "nbformat": 4,
 "nbformat_minor": 2
}
